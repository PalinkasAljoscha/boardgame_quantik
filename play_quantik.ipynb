{
 "cells": [
  {
   "cell_type": "code",
   "execution_count": 2,
   "metadata": {},
   "outputs": [],
   "source": [
    "import numpy as np\n",
    "import matplotlib.pyplot as plt\n",
    "from matplotlib import colors\n",
    "from itertools import product, chain\n",
    "import random\n",
    "import math\n",
    "import io\n",
    "from itertools import product\n",
    "\n",
    "from QuantikBoard import QuantikBoard, QuantikAI \n"
   ]
  },
  {
   "cell_type": "code",
   "execution_count": 2,
   "metadata": {},
   "outputs": [
    {
     "data": {
      "image/png": "[encoded data removed]",
      "text/plain": [
       "<Figure size 432x288 with 1 Axes>"
      ]
     },
     "metadata": {
      "needs_background": "light"
     },
     "output_type": "display_data"
    }
   ],
   "source": [
    "q = QuantikBoard()\n",
    "q.print_board(show_filed_enumeration=True)"
   ]
  },
  {
   "cell_type": "code",
   "execution_count": 1,
   "metadata": {},
   "outputs": [
    {
     "ename": "NameError",
     "evalue": "name 'QuantikAI' is not defined",
     "output_type": "error",
     "traceback": [
      "\u001b[1;31m---------------------------------------------------------------------------\u001b[0m",
      "\u001b[1;31mNameError\u001b[0m                                 Traceback (most recent call last)",
      "\u001b[1;32m<ipython-input-1-121836283691>\u001b[0m in \u001b[0;36m<module>\u001b[1;34m\u001b[0m\n\u001b[0;32m     30\u001b[0m             \u001b[0mprint\u001b[0m\u001b[1;33m(\u001b[0m\u001b[0malgo_1_name\u001b[0m\u001b[1;33m,\u001b[0m\u001b[1;34m\" (b) wins:\"\u001b[0m\u001b[1;33m,\u001b[0m \u001b[0mn_b_win\u001b[0m\u001b[1;33m,\u001b[0m \u001b[0malgo_2_name\u001b[0m\u001b[1;33m,\u001b[0m\u001b[1;34m\" (w) wins:\"\u001b[0m\u001b[1;33m,\u001b[0m \u001b[0mn_w_win\u001b[0m\u001b[1;33m,\u001b[0m \u001b[1;34m\"n_draw:\"\u001b[0m\u001b[1;33m,\u001b[0m \u001b[0mn_draw\u001b[0m\u001b[1;33m,\u001b[0m \u001b[1;34m\"ratio:\"\u001b[0m\u001b[1;33m,\u001b[0m \u001b[0mratio\u001b[0m\u001b[1;33m(\u001b[0m\u001b[0mn_draw\u001b[0m\u001b[1;33m+\u001b[0m\u001b[1;36m2\u001b[0m\u001b[1;33m*\u001b[0m\u001b[0mn_b_win\u001b[0m\u001b[1;33m,\u001b[0m \u001b[0mn_draw\u001b[0m\u001b[1;33m+\u001b[0m\u001b[1;36m2\u001b[0m\u001b[1;33m*\u001b[0m\u001b[0mn_w_win\u001b[0m\u001b[1;33m)\u001b[0m\u001b[1;33m)\u001b[0m\u001b[1;33m\u001b[0m\u001b[1;33m\u001b[0m\u001b[0m\n\u001b[0;32m     31\u001b[0m \u001b[1;33m\u001b[0m\u001b[0m\n\u001b[1;32m---> 32\u001b[1;33m \u001b[0mcompare_algos\u001b[0m\u001b[1;33m(\u001b[0m\u001b[0mQuantikAI\u001b[0m\u001b[1;33m,\u001b[0m \u001b[1;34m\"minimax\"\u001b[0m\u001b[1;33m,\u001b[0m \u001b[1;34m\"random\"\u001b[0m\u001b[1;33m,\u001b[0m \u001b[0mn_iter\u001b[0m\u001b[1;33m=\u001b[0m\u001b[1;36m10\u001b[0m\u001b[1;33m)\u001b[0m\u001b[1;33m\u001b[0m\u001b[1;33m\u001b[0m\u001b[0m\n\u001b[0m",
      "\u001b[1;31mNameError\u001b[0m: name 'QuantikAI' is not defined"
     ]
    }
   ],
   "source": [
    "\n",
    "\n",
    "\n",
    "def compare_algos(GameAI, algo_1_name, algo_2_name, n_iter=100):\n",
    "    def ratio(a,b):\n",
    "            return a/b if (b != 0) else (a/abs(a))*math.inf\n",
    "\n",
    "    for k in [0,1]:\n",
    "        if k == 0:\n",
    "            algo_for_w = algo_1_name\n",
    "            algo_for_b = algo_2_name\n",
    "        elif k == 1:\n",
    "            algo_for_w = algo_2_name\n",
    "            algo_for_b = algo_1_name\n",
    "        n_w_win = 0\n",
    "        n_b_win = 0\n",
    "        n_draw = 0\n",
    "        for i in range(n_iter):\n",
    "            print(\".\",end=\"\")\n",
    "            q = GameAI()\n",
    "            q = q.play_one_round(method_w=algo_for_w, method_b=algo_for_b, print_out=False)\n",
    "            if q.winner == \"w\":\n",
    "                n_w_win += 1\n",
    "            elif q.winner == \"b\":\n",
    "                n_b_win += 1\n",
    "            else:\n",
    "                n_draw += 1\n",
    "        if k == 0:\n",
    "            print(\"------- \",algo_1_name,\" as player w ---------\")\n",
    "            print(algo_1_name,\"(w) wins:\", n_w_win, algo_2_name,\" (b) wins:\", n_b_win, \"n_draw:\", n_draw, \"ratio:\", ratio(n_draw+2*n_w_win, n_draw+2*n_b_win))\n",
    "        elif k == 1:\n",
    "            print(\"------- \",algo_2_name, \"as player w ---------\")\n",
    "            print(algo_1_name,\" (b) wins:\", n_b_win, algo_2_name,\" (w) wins:\", n_w_win, \"n_draw:\", n_draw, \"ratio:\", ratio(n_draw+2*n_b_win, n_draw+2*n_w_win))\n",
    "        \n",
    "compare_algos(QuantikAI, \"minimax\", \"random\", n_iter=10)\n"
   ]
  }
 ],
 "metadata": {
  "interpreter": {
   "hash": "57d4626b4225adfa83ceb41487a1c09c69492c97d133c7ab730de64d31e41020"
  },
  "kernelspec": {
   "display_name": "Python 3.8.5 64-bit (conda)",
   "name": "python3"
  },
  "language_info": {
   "codemirror_mode": {
    "name": "ipython",
    "version": 3
   },
   "file_extension": ".py",
   "mimetype": "text/x-python",
   "name": "python",
   "nbconvert_exporter": "python",
   "pygments_lexer": "ipython3",
   "version": "3.8.5"
  }
 },
 "nbformat": 4,
 "nbformat_minor": 4
}
